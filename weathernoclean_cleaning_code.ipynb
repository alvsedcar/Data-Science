{
 "cells": [
  {
   "cell_type": "markdown",
   "metadata": {},
   "source": [
    "***LIMPIEZA DE METEOROLOGÍA***"
   ]
  },
  {
   "cell_type": "code",
   "execution_count": 1,
   "metadata": {},
   "outputs": [],
   "source": [
    "import pandas as pd\n",
    "import numpy\n",
    "import matplotlib.pyplot as plt\n",
    "import seaborn as sns\n",
    "from sklearn.preprocessing import StandardScaler"
   ]
  },
  {
   "cell_type": "code",
   "execution_count": 6,
   "metadata": {},
   "outputs": [
    {
     "data": {
      "text/html": [
       "<div>\n",
       "<style scoped>\n",
       "    .dataframe tbody tr th:only-of-type {\n",
       "        vertical-align: middle;\n",
       "    }\n",
       "\n",
       "    .dataframe tbody tr th {\n",
       "        vertical-align: top;\n",
       "    }\n",
       "\n",
       "    .dataframe thead th {\n",
       "        text-align: right;\n",
       "    }\n",
       "</style>\n",
       "<table border=\"1\" class=\"dataframe\">\n",
       "  <thead>\n",
       "    <tr style=\"text-align: right;\">\n",
       "      <th></th>\n",
       "      <th>date</th>\n",
       "      <th>tavg</th>\n",
       "      <th>tmin</th>\n",
       "      <th>tmax</th>\n",
       "      <th>prcp</th>\n",
       "      <th>wdir</th>\n",
       "      <th>wspd</th>\n",
       "      <th>pres</th>\n",
       "    </tr>\n",
       "  </thead>\n",
       "  <tbody>\n",
       "    <tr>\n",
       "      <th>0</th>\n",
       "      <td>2022-01-01</td>\n",
       "      <td>-0.794859</td>\n",
       "      <td>-0.940391</td>\n",
       "      <td>-0.580302</td>\n",
       "      <td>-0.341636</td>\n",
       "      <td>-1.192860</td>\n",
       "      <td>-1.129823</td>\n",
       "      <td>1.649661</td>\n",
       "    </tr>\n",
       "    <tr>\n",
       "      <th>1</th>\n",
       "      <td>2022-01-02</td>\n",
       "      <td>-0.869364</td>\n",
       "      <td>-0.998526</td>\n",
       "      <td>-0.817649</td>\n",
       "      <td>-0.341636</td>\n",
       "      <td>-1.079300</td>\n",
       "      <td>-1.526017</td>\n",
       "      <td>1.824689</td>\n",
       "    </tr>\n",
       "    <tr>\n",
       "      <th>2</th>\n",
       "      <td>2022-01-03</td>\n",
       "      <td>-0.919034</td>\n",
       "      <td>-0.925857</td>\n",
       "      <td>-0.893168</td>\n",
       "      <td>-0.341636</td>\n",
       "      <td>0.832294</td>\n",
       "      <td>-1.261888</td>\n",
       "      <td>1.347341</td>\n",
       "    </tr>\n",
       "    <tr>\n",
       "      <th>3</th>\n",
       "      <td>2022-01-04</td>\n",
       "      <td>-1.130132</td>\n",
       "      <td>-0.983992</td>\n",
       "      <td>-1.076572</td>\n",
       "      <td>1.536024</td>\n",
       "      <td>0.803904</td>\n",
       "      <td>1.009626</td>\n",
       "      <td>-0.291553</td>\n",
       "    </tr>\n",
       "    <tr>\n",
       "      <th>4</th>\n",
       "      <td>2022-01-05</td>\n",
       "      <td>-1.316395</td>\n",
       "      <td>-1.114795</td>\n",
       "      <td>-1.421804</td>\n",
       "      <td>0.944433</td>\n",
       "      <td>1.352778</td>\n",
       "      <td>0.956800</td>\n",
       "      <td>0.201707</td>\n",
       "    </tr>\n",
       "    <tr>\n",
       "      <th>5</th>\n",
       "      <td>2022-01-06</td>\n",
       "      <td>-1.539911</td>\n",
       "      <td>-1.579874</td>\n",
       "      <td>-1.562054</td>\n",
       "      <td>-0.341636</td>\n",
       "      <td>1.087804</td>\n",
       "      <td>-1.209062</td>\n",
       "      <td>0.583585</td>\n",
       "    </tr>\n",
       "    <tr>\n",
       "      <th>6</th>\n",
       "      <td>2022-01-07</td>\n",
       "      <td>-1.452988</td>\n",
       "      <td>-1.696144</td>\n",
       "      <td>-1.206034</td>\n",
       "      <td>-0.341636</td>\n",
       "      <td>1.844871</td>\n",
       "      <td>-0.812868</td>\n",
       "      <td>1.554192</td>\n",
       "    </tr>\n",
       "    <tr>\n",
       "      <th>7</th>\n",
       "      <td>2022-01-08</td>\n",
       "      <td>-1.626834</td>\n",
       "      <td>-1.768813</td>\n",
       "      <td>-1.540477</td>\n",
       "      <td>-0.341636</td>\n",
       "      <td>0.889074</td>\n",
       "      <td>-0.997758</td>\n",
       "      <td>1.856512</td>\n",
       "    </tr>\n",
       "    <tr>\n",
       "      <th>8</th>\n",
       "      <td>2022-01-09</td>\n",
       "      <td>-0.956287</td>\n",
       "      <td>-1.332801</td>\n",
       "      <td>-0.957899</td>\n",
       "      <td>-0.341636</td>\n",
       "      <td>1.087804</td>\n",
       "      <td>2.066144</td>\n",
       "      <td>0.885905</td>\n",
       "    </tr>\n",
       "    <tr>\n",
       "      <th>9</th>\n",
       "      <td>2022-01-10</td>\n",
       "      <td>-0.621013</td>\n",
       "      <td>-0.736919</td>\n",
       "      <td>-0.709764</td>\n",
       "      <td>-0.341636</td>\n",
       "      <td>1.542044</td>\n",
       "      <td>0.217237</td>\n",
       "      <td>0.583585</td>\n",
       "    </tr>\n",
       "  </tbody>\n",
       "</table>\n",
       "</div>"
      ],
      "text/plain": [
       "         date      tavg      tmin      tmax      prcp      wdir      wspd  \\\n",
       "0  2022-01-01 -0.794859 -0.940391 -0.580302 -0.341636 -1.192860 -1.129823   \n",
       "1  2022-01-02 -0.869364 -0.998526 -0.817649 -0.341636 -1.079300 -1.526017   \n",
       "2  2022-01-03 -0.919034 -0.925857 -0.893168 -0.341636  0.832294 -1.261888   \n",
       "3  2022-01-04 -1.130132 -0.983992 -1.076572  1.536024  0.803904  1.009626   \n",
       "4  2022-01-05 -1.316395 -1.114795 -1.421804  0.944433  1.352778  0.956800   \n",
       "5  2022-01-06 -1.539911 -1.579874 -1.562054 -0.341636  1.087804 -1.209062   \n",
       "6  2022-01-07 -1.452988 -1.696144 -1.206034 -0.341636  1.844871 -0.812868   \n",
       "7  2022-01-08 -1.626834 -1.768813 -1.540477 -0.341636  0.889074 -0.997758   \n",
       "8  2022-01-09 -0.956287 -1.332801 -0.957899 -0.341636  1.087804  2.066144   \n",
       "9  2022-01-10 -0.621013 -0.736919 -0.709764 -0.341636  1.542044  0.217237   \n",
       "\n",
       "       pres  \n",
       "0  1.649661  \n",
       "1  1.824689  \n",
       "2  1.347341  \n",
       "3 -0.291553  \n",
       "4  0.201707  \n",
       "5  0.583585  \n",
       "6  1.554192  \n",
       "7  1.856512  \n",
       "8  0.885905  \n",
       "9  0.583585  "
      ]
     },
     "execution_count": 6,
     "metadata": {},
     "output_type": "execute_result"
    }
   ],
   "source": [
    "#leer csv meteo22\n",
    "df=pd.read_csv(\"export_weather.csv\")\n",
    "df.head(10)"
   ]
  },
  {
   "cell_type": "code",
   "execution_count": 9,
   "metadata": {},
   "outputs": [
    {
     "data": {
      "text/html": [
       "<div>\n",
       "<style scoped>\n",
       "    .dataframe tbody tr th:only-of-type {\n",
       "        vertical-align: middle;\n",
       "    }\n",
       "\n",
       "    .dataframe tbody tr th {\n",
       "        vertical-align: top;\n",
       "    }\n",
       "\n",
       "    .dataframe thead th {\n",
       "        text-align: right;\n",
       "    }\n",
       "</style>\n",
       "<table border=\"1\" class=\"dataframe\">\n",
       "  <thead>\n",
       "    <tr style=\"text-align: right;\">\n",
       "      <th></th>\n",
       "      <th>date</th>\n",
       "      <th>tavg</th>\n",
       "      <th>tmin</th>\n",
       "      <th>tmax</th>\n",
       "      <th>prcp</th>\n",
       "      <th>wdir</th>\n",
       "      <th>wspd</th>\n",
       "      <th>pres</th>\n",
       "    </tr>\n",
       "  </thead>\n",
       "  <tbody>\n",
       "    <tr>\n",
       "      <th>272</th>\n",
       "      <td>2022-09-30</td>\n",
       "      <td>-0.285740</td>\n",
       "      <td>-0.388110</td>\n",
       "      <td>-0.245859</td>\n",
       "      <td>-0.315915</td>\n",
       "      <td>2.005748</td>\n",
       "      <td>-0.126131</td>\n",
       "      <td>-0.466580</td>\n",
       "    </tr>\n",
       "    <tr>\n",
       "      <th>273</th>\n",
       "      <td>2022-10-01</td>\n",
       "      <td>-0.074641</td>\n",
       "      <td>-0.315441</td>\n",
       "      <td>0.056218</td>\n",
       "      <td>-0.341636</td>\n",
       "      <td>-0.502037</td>\n",
       "      <td>-1.578843</td>\n",
       "      <td>0.965463</td>\n",
       "    </tr>\n",
       "    <tr>\n",
       "      <th>274</th>\n",
       "      <td>2022-10-02</td>\n",
       "      <td>0.260632</td>\n",
       "      <td>0.033368</td>\n",
       "      <td>0.466181</td>\n",
       "      <td>-0.341636</td>\n",
       "      <td>-0.984667</td>\n",
       "      <td>-0.786455</td>\n",
       "      <td>1.108667</td>\n",
       "    </tr>\n",
       "    <tr>\n",
       "      <th>275</th>\n",
       "      <td>2022-10-03</td>\n",
       "      <td>0.459313</td>\n",
       "      <td>0.396711</td>\n",
       "      <td>0.476969</td>\n",
       "      <td>-0.341636</td>\n",
       "      <td>-0.738620</td>\n",
       "      <td>-0.654390</td>\n",
       "      <td>0.504027</td>\n",
       "    </tr>\n",
       "    <tr>\n",
       "      <th>276</th>\n",
       "      <td>2022-10-04</td>\n",
       "      <td>0.608323</td>\n",
       "      <td>0.236840</td>\n",
       "      <td>0.735893</td>\n",
       "      <td>-0.341636</td>\n",
       "      <td>1.825945</td>\n",
       "      <td>-1.209062</td>\n",
       "      <td>0.313088</td>\n",
       "    </tr>\n",
       "  </tbody>\n",
       "</table>\n",
       "</div>"
      ],
      "text/plain": [
       "           date      tavg      tmin      tmax      prcp      wdir      wspd  \\\n",
       "272  2022-09-30 -0.285740 -0.388110 -0.245859 -0.315915  2.005748 -0.126131   \n",
       "273  2022-10-01 -0.074641 -0.315441  0.056218 -0.341636 -0.502037 -1.578843   \n",
       "274  2022-10-02  0.260632  0.033368  0.466181 -0.341636 -0.984667 -0.786455   \n",
       "275  2022-10-03  0.459313  0.396711  0.476969 -0.341636 -0.738620 -0.654390   \n",
       "276  2022-10-04  0.608323  0.236840  0.735893 -0.341636  1.825945 -1.209062   \n",
       "\n",
       "         pres  \n",
       "272 -0.466580  \n",
       "273  0.965463  \n",
       "274  1.108667  \n",
       "275  0.504027  \n",
       "276  0.313088  "
      ]
     },
     "execution_count": 9,
     "metadata": {},
     "output_type": "execute_result"
    }
   ],
   "source": [
    "#dataframe con los registros de date desde 2022-09-30 hasta 2022-12-31\n",
    "df1=df[df['date'] >= '2022-09-30']\n",
    "df1.head()"
   ]
  },
  {
   "cell_type": "markdown",
   "metadata": {},
   "source": [
    "**Valores nulos**"
   ]
  },
  {
   "cell_type": "code",
   "execution_count": 3,
   "metadata": {},
   "outputs": [
    {
     "data": {
      "text/plain": [
       "date    0\n",
       "tavg    0\n",
       "tmin    0\n",
       "tmax    0\n",
       "prcp    0\n",
       "wdir    0\n",
       "wspd    0\n",
       "pres    0\n",
       "dtype: int64"
      ]
     },
     "execution_count": 3,
     "metadata": {},
     "output_type": "execute_result"
    }
   ],
   "source": [
    "#vemos valores nulos\n",
    "df.isnull().sum()"
   ]
  },
  {
   "cell_type": "code",
   "execution_count": 4,
   "metadata": {},
   "outputs": [
    {
     "data": {
      "text/plain": [
       "date     object\n",
       "tavg    float64\n",
       "tmin    float64\n",
       "tmax    float64\n",
       "prcp    float64\n",
       "wdir    float64\n",
       "wspd    float64\n",
       "pres    float64\n",
       "dtype: object"
      ]
     },
     "execution_count": 4,
     "metadata": {},
     "output_type": "execute_result"
    }
   ],
   "source": [
    "#vemos el tipo de variable\n",
    "df.dtypes"
   ]
  },
  {
   "cell_type": "code",
   "execution_count": 5,
   "metadata": {},
   "outputs": [
    {
     "ename": "KeyError",
     "evalue": "\"['snow', 'wpgt', 'tsun'] not found in axis\"",
     "output_type": "error",
     "traceback": [
      "\u001b[1;31m---------------------------------------------------------------------------\u001b[0m",
      "\u001b[1;31mKeyError\u001b[0m                                  Traceback (most recent call last)",
      "Cell \u001b[1;32mIn[5], line 2\u001b[0m\n\u001b[0;32m      1\u001b[0m \u001b[38;5;66;03m#Eliminamos columnas: snow, wpgt y tsun\u001b[39;00m\n\u001b[1;32m----> 2\u001b[0m \u001b[43mdf\u001b[49m\u001b[38;5;241;43m.\u001b[39;49m\u001b[43mdrop\u001b[49m\u001b[43m(\u001b[49m\u001b[43m[\u001b[49m\u001b[38;5;124;43m'\u001b[39;49m\u001b[38;5;124;43msnow\u001b[39;49m\u001b[38;5;124;43m'\u001b[39;49m\u001b[43m,\u001b[49m\u001b[38;5;124;43m'\u001b[39;49m\u001b[38;5;124;43mwpgt\u001b[39;49m\u001b[38;5;124;43m'\u001b[39;49m\u001b[43m,\u001b[49m\u001b[38;5;124;43m'\u001b[39;49m\u001b[38;5;124;43mtsun\u001b[39;49m\u001b[38;5;124;43m'\u001b[39;49m\u001b[43m]\u001b[49m\u001b[43m,\u001b[49m\u001b[43m \u001b[49m\u001b[43maxis\u001b[49m\u001b[38;5;241;43m=\u001b[39;49m\u001b[38;5;241;43m1\u001b[39;49m\u001b[43m,\u001b[49m\u001b[43m \u001b[49m\u001b[43minplace\u001b[49m\u001b[38;5;241;43m=\u001b[39;49m\u001b[38;5;28;43;01mTrue\u001b[39;49;00m\u001b[43m)\u001b[49m\n\u001b[0;32m      3\u001b[0m \u001b[38;5;66;03m#vemos el dataframe\u001b[39;00m\n\u001b[0;32m      4\u001b[0m df\u001b[38;5;241m.\u001b[39mhead(\u001b[38;5;241m10\u001b[39m)\n",
      "File \u001b[1;32mc:\\Users\\alvar\\AppData\\Local\\Programs\\Python\\Python312\\Lib\\site-packages\\pandas\\core\\frame.py:5344\u001b[0m, in \u001b[0;36mDataFrame.drop\u001b[1;34m(self, labels, axis, index, columns, level, inplace, errors)\u001b[0m\n\u001b[0;32m   5196\u001b[0m \u001b[38;5;28;01mdef\u001b[39;00m \u001b[38;5;21mdrop\u001b[39m(\n\u001b[0;32m   5197\u001b[0m     \u001b[38;5;28mself\u001b[39m,\n\u001b[0;32m   5198\u001b[0m     labels: IndexLabel \u001b[38;5;241m|\u001b[39m \u001b[38;5;28;01mNone\u001b[39;00m \u001b[38;5;241m=\u001b[39m \u001b[38;5;28;01mNone\u001b[39;00m,\n\u001b[1;32m   (...)\u001b[0m\n\u001b[0;32m   5205\u001b[0m     errors: IgnoreRaise \u001b[38;5;241m=\u001b[39m \u001b[38;5;124m\"\u001b[39m\u001b[38;5;124mraise\u001b[39m\u001b[38;5;124m\"\u001b[39m,\n\u001b[0;32m   5206\u001b[0m ) \u001b[38;5;241m-\u001b[39m\u001b[38;5;241m>\u001b[39m DataFrame \u001b[38;5;241m|\u001b[39m \u001b[38;5;28;01mNone\u001b[39;00m:\n\u001b[0;32m   5207\u001b[0m \u001b[38;5;250m    \u001b[39m\u001b[38;5;124;03m\"\"\"\u001b[39;00m\n\u001b[0;32m   5208\u001b[0m \u001b[38;5;124;03m    Drop specified labels from rows or columns.\u001b[39;00m\n\u001b[0;32m   5209\u001b[0m \n\u001b[1;32m   (...)\u001b[0m\n\u001b[0;32m   5342\u001b[0m \u001b[38;5;124;03m            weight  1.0     0.8\u001b[39;00m\n\u001b[0;32m   5343\u001b[0m \u001b[38;5;124;03m    \"\"\"\u001b[39;00m\n\u001b[1;32m-> 5344\u001b[0m     \u001b[38;5;28;01mreturn\u001b[39;00m \u001b[38;5;28;43msuper\u001b[39;49m\u001b[43m(\u001b[49m\u001b[43m)\u001b[49m\u001b[38;5;241;43m.\u001b[39;49m\u001b[43mdrop\u001b[49m\u001b[43m(\u001b[49m\n\u001b[0;32m   5345\u001b[0m \u001b[43m        \u001b[49m\u001b[43mlabels\u001b[49m\u001b[38;5;241;43m=\u001b[39;49m\u001b[43mlabels\u001b[49m\u001b[43m,\u001b[49m\n\u001b[0;32m   5346\u001b[0m \u001b[43m        \u001b[49m\u001b[43maxis\u001b[49m\u001b[38;5;241;43m=\u001b[39;49m\u001b[43maxis\u001b[49m\u001b[43m,\u001b[49m\n\u001b[0;32m   5347\u001b[0m \u001b[43m        \u001b[49m\u001b[43mindex\u001b[49m\u001b[38;5;241;43m=\u001b[39;49m\u001b[43mindex\u001b[49m\u001b[43m,\u001b[49m\n\u001b[0;32m   5348\u001b[0m \u001b[43m        \u001b[49m\u001b[43mcolumns\u001b[49m\u001b[38;5;241;43m=\u001b[39;49m\u001b[43mcolumns\u001b[49m\u001b[43m,\u001b[49m\n\u001b[0;32m   5349\u001b[0m \u001b[43m        \u001b[49m\u001b[43mlevel\u001b[49m\u001b[38;5;241;43m=\u001b[39;49m\u001b[43mlevel\u001b[49m\u001b[43m,\u001b[49m\n\u001b[0;32m   5350\u001b[0m \u001b[43m        \u001b[49m\u001b[43minplace\u001b[49m\u001b[38;5;241;43m=\u001b[39;49m\u001b[43minplace\u001b[49m\u001b[43m,\u001b[49m\n\u001b[0;32m   5351\u001b[0m \u001b[43m        \u001b[49m\u001b[43merrors\u001b[49m\u001b[38;5;241;43m=\u001b[39;49m\u001b[43merrors\u001b[49m\u001b[43m,\u001b[49m\n\u001b[0;32m   5352\u001b[0m \u001b[43m    \u001b[49m\u001b[43m)\u001b[49m\n",
      "File \u001b[1;32mc:\\Users\\alvar\\AppData\\Local\\Programs\\Python\\Python312\\Lib\\site-packages\\pandas\\core\\generic.py:4711\u001b[0m, in \u001b[0;36mNDFrame.drop\u001b[1;34m(self, labels, axis, index, columns, level, inplace, errors)\u001b[0m\n\u001b[0;32m   4709\u001b[0m \u001b[38;5;28;01mfor\u001b[39;00m axis, labels \u001b[38;5;129;01min\u001b[39;00m axes\u001b[38;5;241m.\u001b[39mitems():\n\u001b[0;32m   4710\u001b[0m     \u001b[38;5;28;01mif\u001b[39;00m labels \u001b[38;5;129;01mis\u001b[39;00m \u001b[38;5;129;01mnot\u001b[39;00m \u001b[38;5;28;01mNone\u001b[39;00m:\n\u001b[1;32m-> 4711\u001b[0m         obj \u001b[38;5;241m=\u001b[39m \u001b[43mobj\u001b[49m\u001b[38;5;241;43m.\u001b[39;49m\u001b[43m_drop_axis\u001b[49m\u001b[43m(\u001b[49m\u001b[43mlabels\u001b[49m\u001b[43m,\u001b[49m\u001b[43m \u001b[49m\u001b[43maxis\u001b[49m\u001b[43m,\u001b[49m\u001b[43m \u001b[49m\u001b[43mlevel\u001b[49m\u001b[38;5;241;43m=\u001b[39;49m\u001b[43mlevel\u001b[49m\u001b[43m,\u001b[49m\u001b[43m \u001b[49m\u001b[43merrors\u001b[49m\u001b[38;5;241;43m=\u001b[39;49m\u001b[43merrors\u001b[49m\u001b[43m)\u001b[49m\n\u001b[0;32m   4713\u001b[0m \u001b[38;5;28;01mif\u001b[39;00m inplace:\n\u001b[0;32m   4714\u001b[0m     \u001b[38;5;28mself\u001b[39m\u001b[38;5;241m.\u001b[39m_update_inplace(obj)\n",
      "File \u001b[1;32mc:\\Users\\alvar\\AppData\\Local\\Programs\\Python\\Python312\\Lib\\site-packages\\pandas\\core\\generic.py:4753\u001b[0m, in \u001b[0;36mNDFrame._drop_axis\u001b[1;34m(self, labels, axis, level, errors, only_slice)\u001b[0m\n\u001b[0;32m   4751\u001b[0m         new_axis \u001b[38;5;241m=\u001b[39m axis\u001b[38;5;241m.\u001b[39mdrop(labels, level\u001b[38;5;241m=\u001b[39mlevel, errors\u001b[38;5;241m=\u001b[39merrors)\n\u001b[0;32m   4752\u001b[0m     \u001b[38;5;28;01melse\u001b[39;00m:\n\u001b[1;32m-> 4753\u001b[0m         new_axis \u001b[38;5;241m=\u001b[39m \u001b[43maxis\u001b[49m\u001b[38;5;241;43m.\u001b[39;49m\u001b[43mdrop\u001b[49m\u001b[43m(\u001b[49m\u001b[43mlabels\u001b[49m\u001b[43m,\u001b[49m\u001b[43m \u001b[49m\u001b[43merrors\u001b[49m\u001b[38;5;241;43m=\u001b[39;49m\u001b[43merrors\u001b[49m\u001b[43m)\u001b[49m\n\u001b[0;32m   4754\u001b[0m     indexer \u001b[38;5;241m=\u001b[39m axis\u001b[38;5;241m.\u001b[39mget_indexer(new_axis)\n\u001b[0;32m   4756\u001b[0m \u001b[38;5;66;03m# Case for non-unique axis\u001b[39;00m\n\u001b[0;32m   4757\u001b[0m \u001b[38;5;28;01melse\u001b[39;00m:\n",
      "File \u001b[1;32mc:\\Users\\alvar\\AppData\\Local\\Programs\\Python\\Python312\\Lib\\site-packages\\pandas\\core\\indexes\\base.py:6992\u001b[0m, in \u001b[0;36mIndex.drop\u001b[1;34m(self, labels, errors)\u001b[0m\n\u001b[0;32m   6990\u001b[0m \u001b[38;5;28;01mif\u001b[39;00m mask\u001b[38;5;241m.\u001b[39many():\n\u001b[0;32m   6991\u001b[0m     \u001b[38;5;28;01mif\u001b[39;00m errors \u001b[38;5;241m!=\u001b[39m \u001b[38;5;124m\"\u001b[39m\u001b[38;5;124mignore\u001b[39m\u001b[38;5;124m\"\u001b[39m:\n\u001b[1;32m-> 6992\u001b[0m         \u001b[38;5;28;01mraise\u001b[39;00m \u001b[38;5;167;01mKeyError\u001b[39;00m(\u001b[38;5;124mf\u001b[39m\u001b[38;5;124m\"\u001b[39m\u001b[38;5;132;01m{\u001b[39;00mlabels[mask]\u001b[38;5;241m.\u001b[39mtolist()\u001b[38;5;132;01m}\u001b[39;00m\u001b[38;5;124m not found in axis\u001b[39m\u001b[38;5;124m\"\u001b[39m)\n\u001b[0;32m   6993\u001b[0m     indexer \u001b[38;5;241m=\u001b[39m indexer[\u001b[38;5;241m~\u001b[39mmask]\n\u001b[0;32m   6994\u001b[0m \u001b[38;5;28;01mreturn\u001b[39;00m \u001b[38;5;28mself\u001b[39m\u001b[38;5;241m.\u001b[39mdelete(indexer)\n",
      "\u001b[1;31mKeyError\u001b[0m: \"['snow', 'wpgt', 'tsun'] not found in axis\""
     ]
    }
   ],
   "source": [
    "#Eliminamos columnas: snow, wpgt y tsun\n",
    "df.drop(['snow','wpgt','tsun'], axis=1, inplace=True)\n",
    "#vemos el dataframe\n",
    "df.head(10)\n",
    "\n"
   ]
  },
  {
   "cell_type": "markdown",
   "metadata": {},
   "source": [
    "**TRATAMIENTO DE COLUMNAS wdir, wspd, pres y tavg**"
   ]
  },
  {
   "cell_type": "code",
   "execution_count": null,
   "metadata": {},
   "outputs": [
    {
     "name": "stderr",
     "output_type": "stream",
     "text": [
      "C:\\Users\\alvar\\AppData\\Local\\Temp\\ipykernel_32412\\864801067.py:7: FutureWarning: DataFrame.interpolate with object dtype is deprecated and will raise in a future version. Call obj.infer_objects(copy=False) before interpolating instead.\n",
      "  df.interpolate(method='linear', inplace=True)\n"
     ]
    },
    {
     "data": {
      "text/plain": [
       "date    0\n",
       "tavg    0\n",
       "tmin    0\n",
       "tmax    0\n",
       "prcp    0\n",
       "wdir    0\n",
       "wspd    0\n",
       "pres    0\n",
       "dtype: int64"
      ]
     },
     "execution_count": 54,
     "metadata": {},
     "output_type": "execute_result"
    }
   ],
   "source": [
    "#hacemos un interpolate en los valores nulos de las variables wdir, wspd,pres y tavg\n",
    "df['wdir'].interpolate(method='linear', inplace=True)\n",
    "df['wspd'].interpolate(method='linear', inplace=True)\n",
    "df['pres'].interpolate(method='linear', inplace=True)\n",
    "df['tavg'].interpolate(method='linear', inplace=True)\n",
    "#comprobamos valores nulos ahora\n",
    "df.interpolate(method='linear', inplace=True)\n",
    "#comprobamos valores nulos ahora\n",
    "df.isnull().sum()"
   ]
  },
  {
   "cell_type": "markdown",
   "metadata": {},
   "source": [
    "**TRATAMIENDO DE OUTLIERS**"
   ]
  },
  {
   "cell_type": "markdown",
   "metadata": {},
   "source": [
    "*Boxplots*"
   ]
  },
  {
   "cell_type": "code",
   "execution_count": null,
   "metadata": {},
   "outputs": [
    {
     "data": {
      "image/png": "[encoded data removed]",
      "text/plain": [
       "<Figure size 1500x1000 with 7 Axes>"
      ]
     },
     "metadata": {},
     "output_type": "display_data"
    }
   ],
   "source": [
    "# Definir las columnas para revisar outliers\n",
    "columns_to_check = ['tavg', 'tmin', 'tmax', 'prcp', 'wdir', 'wspd', 'pres']\n",
    "\n",
    "# Crear diagramas de caja para cada una de las columnas seleccionadas\n",
    "plt.figure(figsize=(15, 10))\n",
    "for i, col in enumerate(columns_to_check, 1):\n",
    "    plt.subplot(3, 3, i)\n",
    "    sns.boxplot(y=df[col])\n",
    "    plt.title(col)\n",
    "\n",
    "plt.tight_layout()\n",
    "plt.show()\n"
   ]
  },
  {
   "cell_type": "markdown",
   "metadata": {},
   "source": [
    "**NORMALIZACIÓN DE LOS DATOS**"
   ]
  },
  {
   "cell_type": "markdown",
   "metadata": {},
   "source": [
    "-->Estandarización: Útil si tus datos siguen una distribución normal o si necesitas preservar los valores negativos en tus datos. Es comúnmente usada en algoritmos que asumen que los datos están centrados en torno a 0, como SVM o PCA.\n",
    "\n",
    "-->Normalización: Más apropiada si tus datos no siguen una distribución normal o si estás trabajando con algoritmos que son sensibles a la magnitud de los valores, como KNN o redes neuronales."
   ]
  },
  {
   "cell_type": "markdown",
   "metadata": {},
   "source": [
    "**Z-score normalization**"
   ]
  },
  {
   "cell_type": "markdown",
   "metadata": {},
   "source": [
    "Dado que los datos meteorológicos pueden incluir eventos extremos (lluvia muy fuerte o viento muy fuerte), es importante elegir un método que sea sensible a los valores atípicos"
   ]
  },
  {
   "cell_type": "code",
   "execution_count": null,
   "metadata": {},
   "outputs": [
    {
     "data": {
      "text/html": [
       "<div>\n",
       "<style scoped>\n",
       "    .dataframe tbody tr th:only-of-type {\n",
       "        vertical-align: middle;\n",
       "    }\n",
       "\n",
       "    .dataframe tbody tr th {\n",
       "        vertical-align: top;\n",
       "    }\n",
       "\n",
       "    .dataframe thead th {\n",
       "        text-align: right;\n",
       "    }\n",
       "</style>\n",
       "<table border=\"1\" class=\"dataframe\">\n",
       "  <thead>\n",
       "    <tr style=\"text-align: right;\">\n",
       "      <th></th>\n",
       "      <th>date</th>\n",
       "      <th>tavg</th>\n",
       "      <th>tmin</th>\n",
       "      <th>tmax</th>\n",
       "      <th>prcp</th>\n",
       "      <th>wdir</th>\n",
       "      <th>wspd</th>\n",
       "      <th>pres</th>\n",
       "    </tr>\n",
       "  </thead>\n",
       "  <tbody>\n",
       "    <tr>\n",
       "      <th>0</th>\n",
       "      <td>2022-01-01</td>\n",
       "      <td>-0.794859</td>\n",
       "      <td>-0.940391</td>\n",
       "      <td>-0.580302</td>\n",
       "      <td>-0.341636</td>\n",
       "      <td>-1.192860</td>\n",
       "      <td>-1.129823</td>\n",
       "      <td>1.649661</td>\n",
       "    </tr>\n",
       "    <tr>\n",
       "      <th>1</th>\n",
       "      <td>2022-01-02</td>\n",
       "      <td>-0.869364</td>\n",
       "      <td>-0.998526</td>\n",
       "      <td>-0.817649</td>\n",
       "      <td>-0.341636</td>\n",
       "      <td>-1.079300</td>\n",
       "      <td>-1.526017</td>\n",
       "      <td>1.824689</td>\n",
       "    </tr>\n",
       "    <tr>\n",
       "      <th>2</th>\n",
       "      <td>2022-01-03</td>\n",
       "      <td>-0.919034</td>\n",
       "      <td>-0.925857</td>\n",
       "      <td>-0.893168</td>\n",
       "      <td>-0.341636</td>\n",
       "      <td>0.832294</td>\n",
       "      <td>-1.261888</td>\n",
       "      <td>1.347341</td>\n",
       "    </tr>\n",
       "    <tr>\n",
       "      <th>3</th>\n",
       "      <td>2022-01-04</td>\n",
       "      <td>-1.130132</td>\n",
       "      <td>-0.983992</td>\n",
       "      <td>-1.076572</td>\n",
       "      <td>1.536024</td>\n",
       "      <td>0.803904</td>\n",
       "      <td>1.009626</td>\n",
       "      <td>-0.291553</td>\n",
       "    </tr>\n",
       "    <tr>\n",
       "      <th>4</th>\n",
       "      <td>2022-01-05</td>\n",
       "      <td>-1.316395</td>\n",
       "      <td>-1.114795</td>\n",
       "      <td>-1.421804</td>\n",
       "      <td>0.944433</td>\n",
       "      <td>1.352778</td>\n",
       "      <td>0.956800</td>\n",
       "      <td>0.201707</td>\n",
       "    </tr>\n",
       "  </tbody>\n",
       "</table>\n",
       "</div>"
      ],
      "text/plain": [
       "         date      tavg      tmin      tmax      prcp      wdir      wspd  \\\n",
       "0  2022-01-01 -0.794859 -0.940391 -0.580302 -0.341636 -1.192860 -1.129823   \n",
       "1  2022-01-02 -0.869364 -0.998526 -0.817649 -0.341636 -1.079300 -1.526017   \n",
       "2  2022-01-03 -0.919034 -0.925857 -0.893168 -0.341636  0.832294 -1.261888   \n",
       "3  2022-01-04 -1.130132 -0.983992 -1.076572  1.536024  0.803904  1.009626   \n",
       "4  2022-01-05 -1.316395 -1.114795 -1.421804  0.944433  1.352778  0.956800   \n",
       "\n",
       "       pres  \n",
       "0  1.649661  \n",
       "1  1.824689  \n",
       "2  1.347341  \n",
       "3 -0.291553  \n",
       "4  0.201707  "
      ]
     },
     "execution_count": 64,
     "metadata": {},
     "output_type": "execute_result"
    }
   ],
   "source": [
    "from sklearn.preprocessing import StandardScaler\n",
    "\n",
    "# Inicializar el escalador StandardScaler para la estandarización\n",
    "standard_scaler = StandardScaler()\n",
    "\n",
    "# Aplicar la estandarización a las columnas seleccionadas\n",
    "new_data_standardized = df.copy()\n",
    "new_data_standardized[numerical_columns] = standard_scaler.fit_transform(df[numerical_columns])\n",
    "\n",
    "# Mostrar las primeras filas del conjunto de datos estandarizado\n",
    "new_data_standardized.head()\n"
   ]
  },
  {
   "cell_type": "code",
   "execution_count": null,
   "metadata": {},
   "outputs": [
    {
     "data": {
      "text/html": [
       "<div>\n",
       "<style scoped>\n",
       "    .dataframe tbody tr th:only-of-type {\n",
       "        vertical-align: middle;\n",
       "    }\n",
       "\n",
       "    .dataframe tbody tr th {\n",
       "        vertical-align: top;\n",
       "    }\n",
       "\n",
       "    .dataframe thead th {\n",
       "        text-align: right;\n",
       "    }\n",
       "</style>\n",
       "<table border=\"1\" class=\"dataframe\">\n",
       "  <thead>\n",
       "    <tr style=\"text-align: right;\">\n",
       "      <th></th>\n",
       "      <th>tavg</th>\n",
       "      <th>tmin</th>\n",
       "      <th>tmax</th>\n",
       "      <th>prcp</th>\n",
       "      <th>wdir</th>\n",
       "      <th>wspd</th>\n",
       "      <th>pres</th>\n",
       "    </tr>\n",
       "  </thead>\n",
       "  <tbody>\n",
       "    <tr>\n",
       "      <th>count</th>\n",
       "      <td>365.000000</td>\n",
       "      <td>365.000000</td>\n",
       "      <td>365.000000</td>\n",
       "      <td>365.000000</td>\n",
       "      <td>365.000000</td>\n",
       "      <td>365.000000</td>\n",
       "      <td>365.000000</td>\n",
       "    </tr>\n",
       "    <tr>\n",
       "      <th>mean</th>\n",
       "      <td>16.501096</td>\n",
       "      <td>11.970411</td>\n",
       "      <td>22.078904</td>\n",
       "      <td>1.328219</td>\n",
       "      <td>147.050685</td>\n",
       "      <td>10.377534</td>\n",
       "      <td>1018.232329</td>\n",
       "    </tr>\n",
       "    <tr>\n",
       "      <th>std</th>\n",
       "      <td>8.064179</td>\n",
       "      <td>6.889999</td>\n",
       "      <td>9.281869</td>\n",
       "      <td>3.893154</td>\n",
       "      <td>105.816012</td>\n",
       "      <td>3.791219</td>\n",
       "      <td>6.293354</td>\n",
       "    </tr>\n",
       "    <tr>\n",
       "      <th>min</th>\n",
       "      <td>3.400000</td>\n",
       "      <td>-0.500000</td>\n",
       "      <td>7.600000</td>\n",
       "      <td>0.000000</td>\n",
       "      <td>2.000000</td>\n",
       "      <td>4.100000</td>\n",
       "      <td>1001.000000</td>\n",
       "    </tr>\n",
       "    <tr>\n",
       "      <th>25%</th>\n",
       "      <td>9.400000</td>\n",
       "      <td>5.900000</td>\n",
       "      <td>13.400000</td>\n",
       "      <td>0.000000</td>\n",
       "      <td>47.000000</td>\n",
       "      <td>7.500000</td>\n",
       "      <td>1014.300000</td>\n",
       "    </tr>\n",
       "    <tr>\n",
       "      <th>50%</th>\n",
       "      <td>14.600000</td>\n",
       "      <td>11.500000</td>\n",
       "      <td>20.700000</td>\n",
       "      <td>0.000000</td>\n",
       "      <td>117.000000</td>\n",
       "      <td>9.800000</td>\n",
       "      <td>1017.400000</td>\n",
       "    </tr>\n",
       "    <tr>\n",
       "      <th>75%</th>\n",
       "      <td>22.700000</td>\n",
       "      <td>17.100000</td>\n",
       "      <td>29.200000</td>\n",
       "      <td>0.100000</td>\n",
       "      <td>241.000000</td>\n",
       "      <td>12.500000</td>\n",
       "      <td>1022.100000</td>\n",
       "    </tr>\n",
       "    <tr>\n",
       "      <th>max</th>\n",
       "      <td>33.700000</td>\n",
       "      <td>26.200000</td>\n",
       "      <td>40.700000</td>\n",
       "      <td>26.600000</td>\n",
       "      <td>359.000000</td>\n",
       "      <td>23.500000</td>\n",
       "      <td>1034.100000</td>\n",
       "    </tr>\n",
       "  </tbody>\n",
       "</table>\n",
       "</div>"
      ],
      "text/plain": [
       "             tavg        tmin        tmax        prcp        wdir        wspd  \\\n",
       "count  365.000000  365.000000  365.000000  365.000000  365.000000  365.000000   \n",
       "mean    16.501096   11.970411   22.078904    1.328219  147.050685   10.377534   \n",
       "std      8.064179    6.889999    9.281869    3.893154  105.816012    3.791219   \n",
       "min      3.400000   -0.500000    7.600000    0.000000    2.000000    4.100000   \n",
       "25%      9.400000    5.900000   13.400000    0.000000   47.000000    7.500000   \n",
       "50%     14.600000   11.500000   20.700000    0.000000  117.000000    9.800000   \n",
       "75%     22.700000   17.100000   29.200000    0.100000  241.000000   12.500000   \n",
       "max     33.700000   26.200000   40.700000   26.600000  359.000000   23.500000   \n",
       "\n",
       "              pres  \n",
       "count   365.000000  \n",
       "mean   1018.232329  \n",
       "std       6.293354  \n",
       "min    1001.000000  \n",
       "25%    1014.300000  \n",
       "50%    1017.400000  \n",
       "75%    1022.100000  \n",
       "max    1034.100000  "
      ]
     },
     "execution_count": 59,
     "metadata": {},
     "output_type": "execute_result"
    }
   ],
   "source": [
    "#Estadísticas por pantalla\n",
    "df.describe()"
   ]
  },
  {
   "cell_type": "code",
   "execution_count": null,
   "metadata": {},
   "outputs": [
    {
     "data": {
      "text/plain": [
       "date     object\n",
       "tavg    float64\n",
       "tmin    float64\n",
       "tmax    float64\n",
       "prcp    float64\n",
       "wdir    float64\n",
       "wspd    float64\n",
       "pres    float64\n",
       "dtype: object"
      ]
     },
     "execution_count": 61,
     "metadata": {},
     "output_type": "execute_result"
    }
   ],
   "source": [
    "df.dtypes"
   ]
  },
  {
   "cell_type": "markdown",
   "metadata": {},
   "source": [
    "**ANÁLISIS DE CORRELACIÓN**"
   ]
  },
  {
   "cell_type": "markdown",
   "metadata": {},
   "source": [
    "para ver si hay variables redundantes"
   ]
  },
  {
   "cell_type": "code",
   "execution_count": null,
   "metadata": {},
   "outputs": [
    {
     "data": {
      "image/png": "[encoded data removed]",
      "text/plain": [
       "<Figure size 1000x800 with 2 Axes>"
      ]
     },
     "metadata": {},
     "output_type": "display_data"
    }
   ],
   "source": [
    "# Calcular la matriz de correlación\n",
    "correlation_matrix = new_data_standardized[numerical_columns].corr()\n",
    "\n",
    "# Visualizar la matriz de correlación mediante un mapa de calor\n",
    "plt.figure(figsize=(10, 8))\n",
    "sns.heatmap(correlation_matrix, annot=True, cmap='coolwarm', fmt=\".2f\", linewidths=.5)\n",
    "plt.title(\"Matriz de Correlación\")\n",
    "plt.show()\n"
   ]
  },
  {
   "cell_type": "code",
   "execution_count": null,
   "metadata": {},
   "outputs": [],
   "source": []
  }
 ],
 "metadata": {
  "kernelspec": {
   "display_name": "Python 3",
   "language": "python",
   "name": "python3"
  },
  "language_info": {
   "codemirror_mode": {
    "name": "ipython",
    "version": 3
   },
   "file_extension": ".py",
   "mimetype": "text/x-python",
   "name": "python",
   "nbconvert_exporter": "python",
   "pygments_lexer": "ipython3",
   "version": "3.12.0"
  }
 },
 "nbformat": 4,
 "nbformat_minor": 2
}
